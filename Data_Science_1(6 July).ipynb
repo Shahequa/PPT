{
 "cells": [
  {
   "cell_type": "markdown",
   "id": "1ef3079a-fbb7-47fc-af23-435cc7e63442",
   "metadata": {},
   "source": [
    "## Data Science Assignment 1 - Python\n",
    "*By Shahequa Modabbera*"
   ]
  },
  {
   "cell_type": "markdown",
   "id": "8d9a4811-5b61-41f1-bd29-2b328e3f367c",
   "metadata": {},
   "source": [
    "## 1. Write a Python program to reverse a string without using any built-in string reversal functions."
   ]
  },
  {
   "cell_type": "markdown",
   "id": "67a127f9-c334-4e78-a228-435a613ff8ee",
   "metadata": {},
   "source": [
    "We can reverse a string without using any built-in string reversal functions by simply iterating through the characters of the string and constructing a new string in reverse order."
   ]
  },
  {
   "cell_type": "code",
   "execution_count": 1,
   "id": "c98443e4-620a-415e-9b21-bad6df831a54",
   "metadata": {},
   "outputs": [
    {
     "name": "stdout",
     "output_type": "stream",
     "text": [
      "Original string: Hello, World!\n",
      "Reversed string: !dlroW ,olleH\n"
     ]
    }
   ],
   "source": [
    "def reverse_string(input_str):\n",
    "    reversed_str = \"\"\n",
    "\n",
    "    for char in input_str:\n",
    "        # Add each character to the beginning of the reversed string\n",
    "        reversed_str = char + reversed_str\n",
    "\n",
    "    return reversed_str\n",
    "\n",
    "# Test the function\n",
    "input_str = \"Hello, World!\"\n",
    "reversed_str = reverse_string(input_str)\n",
    "print(\"Original string:\", input_str)\n",
    "print(\"Reversed string:\", reversed_str)"
   ]
  },
  {
   "cell_type": "markdown",
   "id": "d198a976-3f66-456a-bad0-7ecc6aba4e34",
   "metadata": {},
   "source": [
    "Explanation:\n",
    "- We initialize an empty string `reversed_str` to store the reversed string.\n",
    "- We then loop through each character in the original string `input_str`.\n",
    "- In each iteration, we add the current character to the beginning of the `reversed_str`.\n",
    "- After the loop, the `reversed_str` will contain the characters of `input_str` in reverse order.\n",
    "\n",
    "The output shows that the original string \"Hello, World!\" is reversed to \"!dlroW ,olleH\"."
   ]
  },
  {
   "cell_type": "markdown",
   "id": "06b9ea7b-0e16-483b-b51e-8319a7f38275",
   "metadata": {},
   "source": [
    "## 2. Implement a function to check if a given string is a palindrome."
   ]
  },
  {
   "cell_type": "markdown",
   "id": "a53795a6-f3c3-47d5-b0ad-9676d6eec01f",
   "metadata": {},
   "source": [
    "A palindrome is a word, phrase, number, or other sequence of characters that reads the same forward and backward. To check if a given string is a palindrome, we can compare the characters from the beginning and the end of the string, moving towards the middle."
   ]
  },
  {
   "cell_type": "code",
   "execution_count": 2,
   "id": "89c3f94a-ed1a-41e8-9de1-501570462df3",
   "metadata": {},
   "outputs": [
    {
     "name": "stdin",
     "output_type": "stream",
     "text": [
      "Enter the text:  mam\n"
     ]
    },
    {
     "name": "stdout",
     "output_type": "stream",
     "text": [
      "It's a palindrome!\n"
     ]
    }
   ],
   "source": [
    "def is_palindrome(input_str):\n",
    "    # Remove any non-alphanumeric characters and convert to lowercase\n",
    "    input_str = ''.join(char.lower() for char in input_str if char.isalnum())\n",
    "    \n",
    "    # Compare characters from both ends of the string\n",
    "    left, right = 0, len(input_str) - 1\n",
    "    while left < right:\n",
    "        if input_str[left] != input_str[right]:\n",
    "            return False\n",
    "        left += 1\n",
    "        right -= 1\n",
    "    \n",
    "    return True\n",
    "\n",
    "user_input = input(\"Enter the text: \")\n",
    "if is_palindrome(user_input):\n",
    "    print(\"It's a palindrome!\")\n",
    "else:\n",
    "    print(\"It's not a palindrome.\")"
   ]
  },
  {
   "cell_type": "markdown",
   "id": "b56df488-c64f-4100-a6d2-e5bd1b018118",
   "metadata": {},
   "source": [
    "Explanation:\n",
    "- We first remove any non-alphanumeric characters from the input string using the `isalnum()` method and convert all characters to lowercase. This is done to handle palindromes with different cases and ignore non-alphanumeric characters.\n",
    "- Then, we initialize two pointers, `left` and `right`, pointing to the beginning and end of the string, respectively.\n",
    "- We compare the characters at positions `left` and `right`. If they are not equal, the string is not a palindrome, and we return `False`.\n",
    "- We continue the comparison until `left` is greater than or equal to `right`. If all characters match, we return `True` as the string is a palindrome."
   ]
  },
  {
   "cell_type": "markdown",
   "id": "dbd9ff6e-5e26-4b04-84a6-b2496142d88d",
   "metadata": {},
   "source": [
    "## 3. Write a program to find the largest element in a given list."
   ]
  },
  {
   "cell_type": "markdown",
   "id": "0d623057-c9ec-446c-980e-434f76c99d4d",
   "metadata": {},
   "source": [
    "To find the largest element in a given list, we can use the `max()` function in Python. The `max()` function returns the largest element from an iterable (e.g., list, tuple, etc.).\n",
    "\n",
    "Explanation:\n",
    "- The `find_largest_element()` function takes a list `input_list` as input.\n",
    "- It uses the `max()` function to find the largest element in the list.\n",
    "- The largest element is then returned as the result."
   ]
  },
  {
   "cell_type": "code",
   "execution_count": 3,
   "id": "0454dd07-7b19-46d9-913f-c1b94f42b09a",
   "metadata": {},
   "outputs": [
    {
     "name": "stdout",
     "output_type": "stream",
     "text": [
      "The largest element in the list is: 89\n"
     ]
    }
   ],
   "source": [
    "def find_largest_element(input_list):\n",
    "    largest_element = max(input_list)\n",
    "    return largest_element\n",
    "\n",
    "# Test the function\n",
    "input_list = [12, 45, 23, 67, 89, 34]\n",
    "largest_element = find_largest_element(input_list)\n",
    "print(\"The largest element in the list is:\", largest_element)"
   ]
  },
  {
   "cell_type": "markdown",
   "id": "54769c3e-587b-431d-a88d-0956d8fa5ae3",
   "metadata": {},
   "source": [
    "Explanation:\n",
    "- The `find_largest_element()` function takes a list `input_list` as input.\n",
    "- It uses the `max()` function to find the largest element in the list.\n",
    "- The largest element is then returned as the result."
   ]
  },
  {
   "cell_type": "markdown",
   "id": "8169d8a0-cd54-4d80-9fee-249c06f274af",
   "metadata": {},
   "source": [
    "## 4. Implement a function to count the occurrence of each element in a list."
   ]
  },
  {
   "cell_type": "markdown",
   "id": "04da1d32-cb2a-40f1-bf74-7b96f9b7d3b1",
   "metadata": {},
   "source": [
    "We can implement a function that counts the occurrence of each element in a list using a dictionary to store the counts. The elements of the list will be the keys of the dictionary, and the corresponding values will be the counts."
   ]
  },
  {
   "cell_type": "code",
   "execution_count": 4,
   "id": "447dba2d-1915-485d-8081-6e06ea67c00e",
   "metadata": {},
   "outputs": [
    {
     "name": "stdout",
     "output_type": "stream",
     "text": [
      "Occurrences of each element: {1: 2, 2: 3, 3: 1, 4: 1, 5: 1}\n"
     ]
    }
   ],
   "source": [
    "def count_occurrences(input_list):\n",
    "    # Create an empty dictionary to store the counts\n",
    "    counts = {}\n",
    "\n",
    "    # Iterate through the elements of the list\n",
    "    for element in input_list:\n",
    "        # Check if the element is already in the dictionary\n",
    "        if element in counts:\n",
    "            # If yes, increment the count by 1\n",
    "            counts[element] += 1\n",
    "        else:\n",
    "            # If not, add the element to the dictionary with count 1\n",
    "            counts[element] = 1\n",
    "\n",
    "    return counts\n",
    "\n",
    "# Test the function\n",
    "input_list = [1, 2, 3, 2, 4, 1, 5, 2]\n",
    "occurrences = count_occurrences(input_list)\n",
    "print(\"Occurrences of each element:\", occurrences)"
   ]
  },
  {
   "cell_type": "markdown",
   "id": "5330ace5-4177-4e71-b798-ef977e3622d5",
   "metadata": {},
   "source": [
    "Explanation:\n",
    "- The `count_occurrences()` function takes a list `input_list` as input.\n",
    "- It initializes an empty dictionary `counts` to store the counts of each element.\n",
    "- The function then iterates through each element of the list.\n",
    "- For each element, it checks if the element is already in the dictionary.\n",
    "- If the element is present, it increments the count of that element by 1.\n",
    "- If the element is not present, it adds the element to the dictionary with a count of 1.\n",
    "- After processing all elements, the `counts` dictionary will contain the occurrence count of each element, and we return it as the result."
   ]
  },
  {
   "cell_type": "markdown",
   "id": "96f26259-5396-49eb-9bcf-15cfd81bd922",
   "metadata": {},
   "source": [
    "## 5. Write a Python program to find the second largest number in a list."
   ]
  },
  {
   "cell_type": "markdown",
   "id": "f67a17c9-be35-4332-92d3-fef259a68beb",
   "metadata": {},
   "source": [
    "We can use the `sorted()` function in Python to find the second largest number in a list easily."
   ]
  },
  {
   "cell_type": "code",
   "execution_count": 5,
   "id": "9c5ab14d-07e5-482b-97af-d3f86e7d730a",
   "metadata": {},
   "outputs": [
    {
     "name": "stdout",
     "output_type": "stream",
     "text": [
      "The second largest number in the list is: 67\n"
     ]
    }
   ],
   "source": [
    "def find_second_largest(input_list):\n",
    "    if len(input_list) < 2:\n",
    "        return \"List should have at least two elements.\"\n",
    "\n",
    "    sorted_list = sorted(input_list, reverse=True)\n",
    "    return sorted_list[1]\n",
    "\n",
    "# Test the function\n",
    "input_list = [12, 45, 23, 67, 89, 34]\n",
    "second_largest = find_second_largest(input_list)\n",
    "print(\"The second largest number in the list is:\", second_largest)"
   ]
  },
  {
   "cell_type": "markdown",
   "id": "cc68012f-f35e-4ab0-af24-9100da2f3a1f",
   "metadata": {},
   "source": [
    "Explanation:\n",
    "- The `find_second_largest()` function takes a list `input_list` as input.\n",
    "- We check if the list has at least two elements. If not, we return an error message.\n",
    "- We use the `sorted()` function to sort the elements of the list in descending order (`reverse=True`).\n",
    "- The second largest number will be at index 1 in the sorted list (`sorted_list[1]`).\n",
    "- We return the second largest number as the result."
   ]
  },
  {
   "cell_type": "markdown",
   "id": "09c9a1e8-1324-4e0d-a895-3c2af777e05d",
   "metadata": {},
   "source": [
    "## 6. Implement a function to remove duplicate elements from a list."
   ]
  },
  {
   "cell_type": "markdown",
   "id": "801a8107-2330-4f1c-8575-e099b7842f2b",
   "metadata": {},
   "source": [
    "We can implement a function to remove duplicate elements from a list by converting the list to a set, which automatically removes duplicates, and then converting it back to a list."
   ]
  },
  {
   "cell_type": "code",
   "execution_count": 6,
   "id": "a79ca8ba-8154-46d6-affa-99643e03ce70",
   "metadata": {},
   "outputs": [
    {
     "name": "stdout",
     "output_type": "stream",
     "text": [
      "List with duplicates removed: [1, 2, 3, 4, 5]\n"
     ]
    }
   ],
   "source": [
    "def remove_duplicates(input_list):\n",
    "    # Convert the list to a set to remove duplicates\n",
    "    unique_elements = set(input_list)\n",
    "\n",
    "    # Convert the set back to a list\n",
    "    result_list = list(unique_elements)\n",
    "\n",
    "    return result_list\n",
    "\n",
    "# Test the function\n",
    "input_list = [1, 2, 2, 3, 3, 4, 4, 5]\n",
    "result_list = remove_duplicates(input_list)\n",
    "print(\"List with duplicates removed:\", result_list)"
   ]
  },
  {
   "cell_type": "markdown",
   "id": "66ab2e29-8e0e-43de-96fe-cbc87cfe7352",
   "metadata": {},
   "source": [
    "Explanation:\n",
    "- The `remove_duplicates()` function takes a list `input_list` as input.\n",
    "- We convert the list to a set `unique_elements`, which automatically removes duplicates since sets do not allow duplicate elements.\n",
    "- We then convert the set `unique_elements` back to a list `result_list`.\n",
    "- The `result_list` will contain only the unique elements from the original list, and we return it as the result."
   ]
  },
  {
   "cell_type": "markdown",
   "id": "7677e531-0540-445c-9a35-3ecd2648e74a",
   "metadata": {},
   "source": [
    "## 7. Write a program to calculate the factorial of a given number."
   ]
  },
  {
   "cell_type": "markdown",
   "id": "b41db6df-fd79-4645-b3f3-c7af6d0d8e30",
   "metadata": {},
   "source": [
    "To calculate the factorial of a given number, we can use a simple loop to multiply all the numbers from 1 to the given number."
   ]
  },
  {
   "cell_type": "code",
   "execution_count": 7,
   "id": "fa15a20b-c538-4242-b35d-a903c391669d",
   "metadata": {},
   "outputs": [
    {
     "name": "stdout",
     "output_type": "stream",
     "text": [
      "The factorial of 5 is: 120\n"
     ]
    }
   ],
   "source": [
    "def factorial(n):\n",
    "    if n < 0:\n",
    "        return \"Factorial is not defined for negative numbers.\"\n",
    "    elif n == 0 or n == 1:\n",
    "        return 1\n",
    "    else:\n",
    "        result = 1\n",
    "        for i in range(1, n + 1):\n",
    "            result *= i\n",
    "        return result\n",
    "\n",
    "# Test the function\n",
    "number = 5\n",
    "print(f\"The factorial of {number} is: {factorial(number)}\")"
   ]
  },
  {
   "cell_type": "markdown",
   "id": "536240c9-c6ca-498c-9d47-f906dc8a85b8",
   "metadata": {},
   "source": [
    "Explanation:\n",
    "- The `factorial()` function takes an integer `n` as input.\n",
    "- It first checks if `n` is negative, and if so, it returns an error message.\n",
    "- If `n` is 0 or 1, the factorial is 1, so we directly return 1 for these cases.\n",
    "- For all other positive values of `n`, we initialize a variable `result` to 1.\n",
    "- We then use a loop to multiply all the numbers from 1 to `n` to calculate the factorial.\n",
    "- After the loop, the `result` will contain the factorial of the given number, and we return it as the result.\n",
    "\n",
    "In the example, the factorial of 5 is calculated as 5 * 4 * 3 * 2 * 1 = 120, so the output is `The factorial of 5 is: 120`."
   ]
  },
  {
   "cell_type": "markdown",
   "id": "e82f668e-130c-4ac4-84d0-0ef89ae5d61f",
   "metadata": {},
   "source": [
    "## 8. Implement a function to check if a given number is prime."
   ]
  },
  {
   "cell_type": "markdown",
   "id": "ee370d07-0a88-4c64-b743-a67170ab66b5",
   "metadata": {},
   "source": [
    "To check if a given number is prime, we need to verify if it is only divisible by 1 and itself. We can achieve this by iterating from 2 to the square root of the number and checking if there is any divisor."
   ]
  },
  {
   "cell_type": "code",
   "execution_count": 8,
   "id": "3a791d33-5a22-49d1-b8df-2fa88847f76e",
   "metadata": {},
   "outputs": [
    {
     "name": "stdout",
     "output_type": "stream",
     "text": [
      "17 is a prime number.\n"
     ]
    }
   ],
   "source": [
    "import math\n",
    "\n",
    "def is_prime(number):\n",
    "    if number < 2:\n",
    "        return False\n",
    "\n",
    "    for divisor in range(2, int(math.sqrt(number)) + 1):\n",
    "        if number % divisor == 0:\n",
    "            return False\n",
    "\n",
    "    return True\n",
    "\n",
    "# Test the function\n",
    "number = 17\n",
    "if is_prime(number):\n",
    "    print(f\"{number} is a prime number.\")\n",
    "else:\n",
    "    print(f\"{number} is not a prime number.\")"
   ]
  },
  {
   "cell_type": "markdown",
   "id": "57c753ac-8cf3-45fe-8566-13c333cdccb2",
   "metadata": {},
   "source": [
    "Explanation:\n",
    "- The `is_prime()` function takes an integer `number` as input.\n",
    "- It first checks if the number is less than 2. If it is, the function returns `False`, as numbers less than 2 are not prime.\n",
    "- Next, it iterates from 2 to the square root of the number using a loop.\n",
    "- For each divisor in this range, it checks if the number is divisible by the divisor without a remainder.\n",
    "- If any divisor is found, the function returns `False`, indicating that the number is not prime.\n",
    "- If no divisor is found, the function returns `True`, indicating that the number is prime.\n",
    "\n",
    "In the example, the number 17 is a prime number because it is only divisible by 1 and 17 itself, so the output is `17 is a prime number.`."
   ]
  },
  {
   "cell_type": "markdown",
   "id": "5efdd83b-22d1-48cb-9eb9-f11fb240cbba",
   "metadata": {},
   "source": [
    "## 9. Write a Python program to sort a list of integers in ascending order."
   ]
  },
  {
   "cell_type": "markdown",
   "id": "fe90b3a7-a50e-4be4-aeb3-2ab5fc6cee82",
   "metadata": {},
   "source": [
    "We can use the built-in `sorted()` function or the `sort()` method to sort a list of integers in ascending order.\n",
    "\n",
    "1. Using the `sorted()` function:"
   ]
  },
  {
   "cell_type": "code",
   "execution_count": 9,
   "id": "c0a4da31-0128-4ca9-acca-ff334fc78c09",
   "metadata": {},
   "outputs": [
    {
     "name": "stdout",
     "output_type": "stream",
     "text": [
      "Sorted list: [1, 2, 3, 5, 8]\n"
     ]
    }
   ],
   "source": [
    "def sort_list_ascending(input_list):\n",
    "    sorted_list = sorted(input_list)\n",
    "    return sorted_list\n",
    "\n",
    "# Test the function\n",
    "numbers = [5, 2, 8, 1, 3]\n",
    "sorted_numbers = sort_list_ascending(numbers)\n",
    "print(\"Sorted list:\", sorted_numbers)"
   ]
  },
  {
   "cell_type": "markdown",
   "id": "0d7fb8bf-5ebf-4d43-a0da-4de9eef9da8f",
   "metadata": {},
   "source": [
    "2. Using the `sort()` method (which sorts the list in-place):"
   ]
  },
  {
   "cell_type": "code",
   "execution_count": 10,
   "id": "4f8cb67c-c543-456b-a87b-6c96de030b7c",
   "metadata": {},
   "outputs": [
    {
     "name": "stdout",
     "output_type": "stream",
     "text": [
      "Sorted list: [1, 2, 3, 5, 8]\n"
     ]
    }
   ],
   "source": [
    "def sort_list_ascending(input_list):\n",
    "    input_list.sort()\n",
    "    return input_list\n",
    "\n",
    "# Test the function\n",
    "numbers = [5, 2, 8, 1, 3]\n",
    "sorted_numbers = sort_list_ascending(numbers)\n",
    "print(\"Sorted list:\", sorted_numbers)"
   ]
  },
  {
   "cell_type": "markdown",
   "id": "c6d475c8-2b99-4e15-858a-01bbd401da8c",
   "metadata": {},
   "source": [
    "Both methods will give us a sorted list of integers in ascending order. We can choose either of them based on whether we want to create a new sorted list (`sorted()` function) or sort the original list in place (`sort()` method)."
   ]
  },
  {
   "cell_type": "markdown",
   "id": "fd03d2ad-1315-42be-8c34-7b8f7a3ab4f1",
   "metadata": {},
   "source": [
    "## 10. Implement a function to find the sum of all numbers in a list."
   ]
  },
  {
   "cell_type": "markdown",
   "id": "2c626ffb-1abf-45c2-a3af-f6510b5524f6",
   "metadata": {},
   "source": [
    "We can implement a function to find the sum of all numbers in a list by using a loop to iterate through the list and adding each element to a running total. Here's how you can do it:"
   ]
  },
  {
   "cell_type": "code",
   "execution_count": 11,
   "id": "1a636bc2-924c-41d7-9df5-7a91eb881c66",
   "metadata": {},
   "outputs": [
    {
     "name": "stdout",
     "output_type": "stream",
     "text": [
      "Sum of numbers: 15\n"
     ]
    }
   ],
   "source": [
    "def find_sum(numbers):\n",
    "    total = 0\n",
    "    for num in numbers:\n",
    "        total += num\n",
    "    return total\n",
    "\n",
    "# Test the function\n",
    "numbers = [1, 2, 3, 4, 5]\n",
    "result = find_sum(numbers)\n",
    "print(\"Sum of numbers:\", result)"
   ]
  },
  {
   "cell_type": "markdown",
   "id": "48b99731-4334-4846-b66e-d4f80932ab5a",
   "metadata": {},
   "source": [
    "Explanation:\n",
    "- The `find_sum()` function takes a list `numbers` as input.\n",
    "- It initializes a variable `total` to 0, which will store the sum of all numbers.\n",
    "- It then uses a loop to iterate through each element `num` in the `numbers` list.\n",
    "- Inside the loop, it adds the current element `num` to the `total` variable.\n",
    "- After the loop, the function returns the final value of `total`, which represents the sum of all numbers in the list."
   ]
  },
  {
   "cell_type": "markdown",
   "id": "c52f191a-95b2-4ed6-9239-2b319c671ea3",
   "metadata": {},
   "source": [
    "## 11. Write a program to find the common elements between two lists."
   ]
  },
  {
   "cell_type": "markdown",
   "id": "140fd550-0582-4f72-b15d-c4898d2153d7",
   "metadata": {},
   "source": [
    "We can find the common elements between two lists by using a set data structure in Python. Sets automatically remove duplicate elements, and they provide fast membership testing, making it efficient to find common elements."
   ]
  },
  {
   "cell_type": "code",
   "execution_count": 12,
   "id": "741912bd-8af2-4077-adef-ce008bacefeb",
   "metadata": {},
   "outputs": [
    {
     "name": "stdout",
     "output_type": "stream",
     "text": [
      "Common elements: [3, 4, 5]\n"
     ]
    }
   ],
   "source": [
    "def find_common_elements(list1, list2):\n",
    "    # Convert both lists to sets\n",
    "    set1 = set(list1)\n",
    "    set2 = set(list2)\n",
    "    \n",
    "    # Find the intersection of the two sets (common elements)\n",
    "    common_elements = set1.intersection(set2)\n",
    "    \n",
    "    return list(common_elements)\n",
    "\n",
    "# Test the function\n",
    "list1 = [1, 2, 3, 4, 5]\n",
    "list2 = [3, 4, 5, 6, 7]\n",
    "result = find_common_elements(list1, list2)\n",
    "print(\"Common elements:\", result)"
   ]
  },
  {
   "cell_type": "markdown",
   "id": "2f1cdc69-7220-479b-beb1-906a9142663f",
   "metadata": {},
   "source": [
    "Explanation:\n",
    "- The `find_common_elements()` function takes two lists, `list1` and `list2`, as input.\n",
    "- It first converts both lists into sets using the `set()` function, which automatically removes duplicate elements.\n",
    "- Next, it finds the intersection of the two sets using the `intersection()` method, which gives us the common elements between the two sets.\n",
    "- Finally, the function converts the resulting set back into a list and returns it as the output."
   ]
  },
  {
   "cell_type": "markdown",
   "id": "e8bda1ed-3eaf-4a21-b21a-3ba85163b1f0",
   "metadata": {},
   "source": [
    "## 12. Implement a function to check if a given string is an anagram of another string."
   ]
  },
  {
   "cell_type": "markdown",
   "id": "a55ebc7a-c3e5-48ca-b15a-9d427415e583",
   "metadata": {},
   "source": [
    "An anagram is a word or phrase formed by rearranging the letters of another word or phrase, typically using all the original letters exactly once. To check if a given string is an anagram of another string, we can compare if both strings have the same characters with the same frequency."
   ]
  },
  {
   "cell_type": "code",
   "execution_count": 13,
   "id": "c040abb5-1670-4314-be23-aa709f89fc82",
   "metadata": {},
   "outputs": [
    {
     "name": "stdout",
     "output_type": "stream",
     "text": [
      "The strings are anagrams.\n"
     ]
    }
   ],
   "source": [
    "def is_anagram(str1, str2):\n",
    "    # Convert both strings to lowercase to handle case-insensitivity\n",
    "    str1 = str1.lower()\n",
    "    str2 = str2.lower()\n",
    "    \n",
    "    # Check if the two strings have the same length\n",
    "    if len(str1) != len(str2):\n",
    "        return False\n",
    "\n",
    "    # Convert both strings to dictionaries containing character frequencies\n",
    "    char_freq1 = {}\n",
    "    char_freq2 = {}\n",
    "\n",
    "    for char in str1:\n",
    "        char_freq1[char] = char_freq1.get(char, 0) + 1\n",
    "\n",
    "    for char in str2:\n",
    "        char_freq2[char] = char_freq2.get(char, 0) + 1\n",
    "\n",
    "    # Compare the two dictionaries\n",
    "    return char_freq1 == char_freq2\n",
    "\n",
    "# Test the function\n",
    "string1 = \"listen\"\n",
    "string2 = \"silent\"\n",
    "if is_anagram(string1, string2):\n",
    "    print(\"The strings are anagrams.\")\n",
    "else:\n",
    "    print(\"The strings are not anagrams.\")"
   ]
  },
  {
   "cell_type": "markdown",
   "id": "a756987c-1e63-4d9e-b8bf-3ff8012ab6c6",
   "metadata": {},
   "source": [
    "Explanation:\n",
    "- The `is_anagram()` function takes two strings, `str1` and `str2`, as input.\n",
    "- It first converts both strings to lowercase using the `lower()` method to handle case-insensitivity. For anagrams, the case of characters doesn't matter.\n",
    "- It then checks if the lengths of the two strings are the same. If not, they cannot be anagrams, so the function returns `False`.\n",
    "- Next, it converts both strings to dictionaries containing the frequency of each character in the string. The keys in the dictionary are characters, and the values are their frequencies.\n",
    "- Finally, it compares the two dictionaries. If they are equal, it means that both strings have the same characters with the same frequency, and hence they are anagrams. The function returns `True` in this case."
   ]
  },
  {
   "cell_type": "markdown",
   "id": "d2b3f522-b223-407a-8a0a-845dacfc44c7",
   "metadata": {},
   "source": [
    "## 13. Write a Python program to generate all permutations of a given string."
   ]
  },
  {
   "cell_type": "markdown",
   "id": "ce687bb9-906e-44be-8843-f5119028e58e",
   "metadata": {},
   "source": [
    "We can use the `itertools.permutations` function to generate all permutations of a given string."
   ]
  },
  {
   "cell_type": "code",
   "execution_count": 14,
   "id": "ed672212-ce9d-4567-873c-69de10d07eb7",
   "metadata": {},
   "outputs": [
    {
     "name": "stdout",
     "output_type": "stream",
     "text": [
      "Permutations of abc : ['abc', 'acb', 'bac', 'bca', 'cab', 'cba']\n"
     ]
    }
   ],
   "source": [
    "from itertools import permutations\n",
    "\n",
    "def generate_permutations(input_string):\n",
    "    # Use itertools.permutations to generate all permutations\n",
    "    perms = permutations(input_string)\n",
    "    \n",
    "    # Convert each permutation tuple to a string and store them in a list\n",
    "    result = [''.join(perm) for perm in perms]\n",
    "    \n",
    "    return result\n",
    "\n",
    "# Test the function\n",
    "input_string = \"abc\"\n",
    "permutations_list = generate_permutations(input_string)\n",
    "print(\"Permutations of\", input_string, \":\", permutations_list)"
   ]
  },
  {
   "cell_type": "markdown",
   "id": "f7b1d81e-bca2-4404-ba22-87e40f84c5dd",
   "metadata": {},
   "source": [
    "Explanation:\n",
    "- The `generate_permutations()` function takes a string `input_string` as input.\n",
    "- It uses the `itertools.permutations` function to generate all possible permutations of the characters in the `input_string`.\n",
    "- The `permutations()` function returns an iterator of tuples, where each tuple represents a permutation of characters.\n",
    "- The function then converts each tuple to a string using the `''.join(perm)` method and stores the strings in the `result` list.\n",
    "- Finally, it returns the list of all permutations as the output."
   ]
  },
  {
   "cell_type": "markdown",
   "id": "69a67b95-4073-4fa8-b75e-613e6b8ba424",
   "metadata": {},
   "source": [
    "## 14. Implement a function to calculate the Fibonacci sequence up to a given number of terms."
   ]
  },
  {
   "cell_type": "markdown",
   "id": "f050c7c3-35c6-4638-8fdf-188edca3bab2",
   "metadata": {},
   "source": [
    "The Fibonacci sequence is a series of numbers in which each number is the sum of the two preceding ones, usually starting with 0 and 1. "
   ]
  },
  {
   "cell_type": "code",
   "execution_count": 15,
   "id": "789a92d7-ab9e-4d33-ba2e-2c91968a6ded",
   "metadata": {},
   "outputs": [
    {
     "name": "stdout",
     "output_type": "stream",
     "text": [
      "Fibonacci sequence with 10 terms: [0, 1, 1, 2, 3, 5, 8, 13, 21, 34]\n"
     ]
    }
   ],
   "source": [
    "def fibonacci_sequence(n):\n",
    "    fib_sequence = [0, 1]  # Initialize the Fibonacci sequence with the first two terms\n",
    "    while len(fib_sequence) < n:\n",
    "        next_term = fib_sequence[-1] + fib_sequence[-2]  # Calculate the next term\n",
    "        fib_sequence.append(next_term)\n",
    "    return fib_sequence\n",
    "\n",
    "# Test the function\n",
    "n = 10\n",
    "fib_seq = fibonacci_sequence(n)\n",
    "print(\"Fibonacci sequence with\", n, \"terms:\", fib_seq)"
   ]
  },
  {
   "cell_type": "markdown",
   "id": "5aa67a6c-ab92-4a5d-83b3-1a7fd8b7d10d",
   "metadata": {},
   "source": [
    "Explanation:\n",
    "- The `fibonacci_sequence()` function takes an integer `n` as input, which represents the number of terms we want in the Fibonacci sequence.\n",
    "- It initializes the `fib_sequence` list with the first two terms `[0, 1]`, which are the starting points of the Fibonacci sequence.\n",
    "- It then enters a `while` loop, which continues until the length of `fib_sequence` is equal to `n`.\n",
    "- Inside the loop, it calculates the next term in the Fibonacci sequence by summing the last two elements of the `fib_sequence`.\n",
    "- The function appends the next term to the `fib_sequence` list.\n",
    "- The loop continues until the required number of terms `n` is reached.\n",
    "- Finally, the function returns the `fib_sequence` list as the output."
   ]
  },
  {
   "cell_type": "markdown",
   "id": "d7d2cbdf-f2ab-481d-a21d-39ff7add43c1",
   "metadata": {},
   "source": [
    "## 15. Write a program to find the median of a list of numbers."
   ]
  },
  {
   "cell_type": "markdown",
   "id": "f6c8b1ec-f0e7-4014-a532-1c084970b36b",
   "metadata": {},
   "source": [
    "To find the median of a list of numbers, we can follow these steps:\n",
    "\n",
    "1. Sort the list in ascending order (if it's not already sorted).\n",
    "2. If the list has an odd number of elements, the median is the middle element.\n",
    "3. If the list has an even number of elements, the median is the average of the two middle elements."
   ]
  },
  {
   "cell_type": "code",
   "execution_count": 16,
   "id": "3becc4d6-7f5c-429d-8fe2-a9b884ee8a6e",
   "metadata": {},
   "outputs": [
    {
     "name": "stdout",
     "output_type": "stream",
     "text": [
      "Median: 3.0\n"
     ]
    }
   ],
   "source": [
    "def find_median(numbers):\n",
    "    # Sort the list in ascending order\n",
    "    sorted_numbers = sorted(numbers)\n",
    "    n = len(sorted_numbers)\n",
    "    \n",
    "    # Check if the number of elements is odd or even\n",
    "    if n % 2 == 1:\n",
    "        # If odd, return the middle element\n",
    "        median = sorted_numbers[n//2]\n",
    "    else:\n",
    "        # If even, return the average of the middle elements\n",
    "        middle_right = sorted_numbers[n//2]\n",
    "        middle_left = sorted_numbers[(n//2) - 1]\n",
    "        median = (middle_left + middle_right) / 2\n",
    "        \n",
    "    return median\n",
    "\n",
    "# test the function\n",
    "numbers = [3,1,5,3,2,4]\n",
    "median_value = find_median(numbers)\n",
    "print(\"Median:\", median_value)"
   ]
  },
  {
   "cell_type": "markdown",
   "id": "22413bac-0c33-47f3-8226-3e84ef07722b",
   "metadata": {},
   "source": [
    "Explanation:\n",
    "- The `find_median()` function takes a list of numbers as input.\n",
    "- It first sorts the list using the `sorted()` function to ensure that the elements are in ascending order.\n",
    "- It then calculates the length of the sorted list, `n`.\n",
    "- If `n` is odd, the function returns the middle element of the sorted list as the median.\n",
    "- If `n` is even, the function calculates the average of the two middle elements and returns it as the median."
   ]
  },
  {
   "cell_type": "markdown",
   "id": "dcd116d4-e3c1-4b2a-8f84-0cb20a8ccdb8",
   "metadata": {},
   "source": [
    "## 16. Implement a function to check if a given list is sorted in non-decreasing order."
   ]
  },
  {
   "cell_type": "markdown",
   "id": "fd200230-9e39-4aa6-a909-02146aec2795",
   "metadata": {},
   "source": [
    "We can implement a function to check if a given list is sorted in non-decreasing order by iterating through the list and comparing each element with the next one."
   ]
  },
  {
   "cell_type": "code",
   "execution_count": 17,
   "id": "c7b71deb-64e8-4ece-8729-02937ad0d2c6",
   "metadata": {},
   "outputs": [
    {
     "name": "stdout",
     "output_type": "stream",
     "text": [
      "List1 is sorted: True\n",
      "List2 is sorted: False\n"
     ]
    }
   ],
   "source": [
    "def is_sorted_non_decreasing(lst):\n",
    "    n = len(lst)\n",
    "    for i in range(n-1):\n",
    "        if lst[i] > lst[i+1]:\n",
    "            return False\n",
    "    return True\n",
    "    \n",
    "# Test the function\n",
    "list1 = [1,2,3,4,5]\n",
    "list2 = [3,4,7,4,2,1]\n",
    "        \n",
    "print(\"List1 is sorted:\", is_sorted_non_decreasing(list1))\n",
    "print(\"List2 is sorted:\", is_sorted_non_decreasing(list2))"
   ]
  },
  {
   "cell_type": "markdown",
   "id": "4d5c905e-6281-480a-b21a-cba38056e7ee",
   "metadata": {},
   "source": [
    "Explanation:\n",
    "- The `is_sorted_non_decreasing()` function takes a list `lst` as input.\n",
    "- It calculates the length of the list `n`.\n",
    "- Then, it iterates through the list using a `for` loop from index 0 to `n-2` (i.e., the second-to-last element).\n",
    "- Inside the loop, it compares each element `lst[i]` with the next element `lst[i + 1]`.\n",
    "- If at any point `lst[i]` is greater than `lst[i + 1]`, it means the list is not sorted in non-decreasing order, and the function returns `False`.\n",
    "- If the loop completes without finding any out-of-order elements, it means the list is sorted in non-decreasing order, and the function returns `True`."
   ]
  },
  {
   "cell_type": "markdown",
   "id": "926fa95e-3218-4005-a4e1-853d71419a44",
   "metadata": {},
   "source": [
    "## 17. Write a Python program to find the intersection of two lists."
   ]
  },
  {
   "cell_type": "markdown",
   "id": "9bd0ab7c-a56b-4c61-b464-c5cab4f15a1f",
   "metadata": {},
   "source": [
    "We can find the intersection of two lists in Python using the built-in `set` data type and its `intersection()` method."
   ]
  },
  {
   "cell_type": "code",
   "execution_count": 18,
   "id": "b6fcf020-acf5-487e-bf87-115c345340b8",
   "metadata": {},
   "outputs": [
    {
     "name": "stdout",
     "output_type": "stream",
     "text": [
      "Intersection of the two lists: [1, 2, 3, 5, 7]\n"
     ]
    }
   ],
   "source": [
    "def find_intersection(list1, list2):\n",
    "    # Convert both lists to sets\n",
    "    set1 = set(list1)\n",
    "    set2 = set(list2)\n",
    "    \n",
    "    # Find the intersection of the two sets\n",
    "    intersection_set = set1.intersection(set2)\n",
    "    \n",
    "    # Convert the intersection set back to list\n",
    "    intersection_list = list(intersection_set)\n",
    "    \n",
    "    return intersection_list\n",
    "\n",
    "# test the function\n",
    "list1 = [1,2,3,4,5, 7]\n",
    "list2 = [3,5,1,7,8,2]\n",
    "\n",
    "intersection_result = find_intersection(list1, list2)\n",
    "print(\"Intersection of the two lists:\", intersection_result)"
   ]
  },
  {
   "cell_type": "markdown",
   "id": "e218f95a-6d9e-45ea-97ec-26c09b4e4074",
   "metadata": {},
   "source": [
    "Explanation:\n",
    "- The `find_intersection()` function takes two lists `list1` and `list2` as input.\n",
    "- It converts both lists to sets using the `set()` constructor, which automatically removes duplicate elements and performs set operations efficiently.\n",
    "- Then, it uses the `intersection()` method on one of the sets (in this case, `set1`) and provides the other set (`set2`) as the argument to find their intersection.\n",
    "- The result of the intersection operation is a set containing the common elements present in both `set1` and `set2`.\n",
    "- Finally, the function converts the intersection set back to a list using the `list()` constructor and returns it as the output."
   ]
  },
  {
   "cell_type": "markdown",
   "id": "843f6f75-99e1-4e55-9308-13e7b58e8afc",
   "metadata": {},
   "source": [
    "## 18. Implement a function to find the maximum subarray sum in a given list."
   ]
  },
  {
   "cell_type": "markdown",
   "id": "0526d720-36b3-478c-a4f2-544f66c41568",
   "metadata": {},
   "source": [
    "To find the maximum subarray sum in a given list, you can use Kadane's algorithm, which has a time complexity of O(n)"
   ]
  },
  {
   "cell_type": "code",
   "execution_count": 19,
   "id": "32d8d42f-6cd0-454b-98b4-18fefbac139a",
   "metadata": {},
   "outputs": [
    {
     "name": "stdout",
     "output_type": "stream",
     "text": [
      "Maximum subarray sum: 7\n"
     ]
    }
   ],
   "source": [
    "def max_subarray_sum(nums):\n",
    "    max_sum = float('-inf') # Initialize max_sum to negative infinity\n",
    "    current_sum = 0 # Initialize current_sum to 0\n",
    "    \n",
    "    for num in nums:\n",
    "        # add the current number to the current_sum\n",
    "        current_sum += num\n",
    "        \n",
    "        # if current_sum becomes negative, reset it to 0\n",
    "        if current_sum < 0:\n",
    "            current_sum = 0\n",
    "            \n",
    "        # Update max_sum if current_sum is greater\n",
    "        if current_sum > max_sum:\n",
    "            max_sum = current_sum\n",
    "            \n",
    "    return max_sum\n",
    "            \n",
    "# test the function\n",
    "numbers = [2, 1, -3, 7, -6, 1, -1, 2, -3, 4, -5, 6]\n",
    "print(\"Maximum subarray sum:\", max_subarray_sum(numbers))"
   ]
  },
  {
   "cell_type": "markdown",
   "id": "2ff62a8f-83a0-4d9a-9486-034ce7bdb1dd",
   "metadata": {},
   "source": [
    "Explanation:\n",
    "- The `max_subarray_sum()` function takes a list `nums` as input.\n",
    "- It initializes two variables: `max_sum` to negative infinity and `current_sum` to 0.\n",
    "- The function then iterates through the list `nums`.\n",
    "- For each element in `nums`, it adds the element to the `current_sum`.\n",
    "- If `current_sum` becomes negative, it means that including that element in the subarray would not give us the maximum sum, so we reset `current_sum` to 0 to start a new subarray from the next element.\n",
    "- If `current_sum` is greater than `max_sum`, it means we have found a new maximum subarray sum, so we update `max_sum`.\n",
    "- After the loop completes, the function returns `max_sum`, which represents the maximum subarray sum."
   ]
  },
  {
   "cell_type": "markdown",
   "id": "dfd1308e-cce4-4f6e-b0af-c25b4c73b7b7",
   "metadata": {},
   "source": [
    "## 19. Write a program to remove all vowels from a given string."
   ]
  },
  {
   "cell_type": "code",
   "execution_count": 20,
   "id": "67b65336-f745-485e-917c-21a37b80e0a5",
   "metadata": {},
   "outputs": [
    {
     "name": "stdout",
     "output_type": "stream",
     "text": [
      "Input string: Hello, Shahequa!\n",
      "String after removing vowels: Hll, Shhq!\n"
     ]
    }
   ],
   "source": [
    "def remove_vowels(input_str):\n",
    "    vowels = 'AEIOUaeiou'\n",
    "    result_str = \"\"\n",
    "    \n",
    "    for char in input_str:\n",
    "        if char not in vowels:\n",
    "            result_str += char\n",
    "            \n",
    "    return result_str\n",
    "\n",
    "# Test the function\n",
    "input_string = 'Hello, Shahequa!'\n",
    "print(\"Input string:\", input_string)\n",
    "print(\"String after removing vowels:\", remove_vowels(input_string))"
   ]
  },
  {
   "cell_type": "markdown",
   "id": "b389a65f-9f6f-42c8-988d-beb3a1750120",
   "metadata": {},
   "source": [
    "Explanation:\n",
    "- The `remove_vowels()` function takes an input string `input_str` as an argument.\n",
    "- We define a string `vowels` containing all the uppercase and lowercase vowels.\n",
    "- We initialize an empty string `result_str`, which will store the characters of the input string that are not vowels.\n",
    "- We then loop through each character in the input string using a `for` loop.\n",
    "- If the character is not present in the `vowels` string (i.e., it is not a vowel), we add it to the `result_str`.\n",
    "- After processing all characters in the input string, the function returns the `result_str`, which is the input string with all vowels removed."
   ]
  },
  {
   "cell_type": "markdown",
   "id": "e66712a9-f5ca-41e8-8e63-26db4f3ed341",
   "metadata": {},
   "source": [
    "## 20. Implement a function to reverse the order of words in a given sentence."
   ]
  },
  {
   "cell_type": "markdown",
   "id": "7fdc611a-926f-43dd-a8d5-995c154798b4",
   "metadata": {},
   "source": [
    "To reverse the order of words in a given sentence, we can split the sentence into individual words, reverse the list of words, and then join them back into a new sentence."
   ]
  },
  {
   "cell_type": "code",
   "execution_count": 21,
   "id": "3f2b8da2-c46a-404d-a701-e190c65a9fdd",
   "metadata": {},
   "outputs": [
    {
     "name": "stdout",
     "output_type": "stream",
     "text": [
      "Input Senetence: Hello, Shahequa! You are amazing!\n",
      "Reversed Sentence: amazing! are You Shahequa! Hello,\n"
     ]
    }
   ],
   "source": [
    "def reverse_words(sentence):\n",
    "    # Split the sentence into individual words\n",
    "    words_list = sentence.split()\n",
    "    \n",
    "    # reverse the list of words\n",
    "    reversed_list = words_list[::-1]\n",
    "    \n",
    "    # join the reversed words to form a new sentence\n",
    "    reverse_sentence = \" \".join(reversed_list)\n",
    "    \n",
    "    return reverse_sentence\n",
    "\n",
    "# test the function\n",
    "input_sentence = \"Hello, Shahequa! You are amazing!\"\n",
    "print(\"Input Senetence:\", input_sentence)\n",
    "print(\"Reversed Sentence:\", reverse_words(input_sentence))"
   ]
  },
  {
   "cell_type": "markdown",
   "id": "fdfe683a-2c9d-4dd2-8632-e4549735e10f",
   "metadata": {},
   "source": [
    "Explanation:\n",
    "- The `reverse_words()` function takes a sentence as input and returns the reversed sentence.\n",
    "- We first split the input sentence into individual words using the `split()` method, which returns a list of words in the sentence (`words_list`).\n",
    "- We then use slicing (`[::-1]`) to reverse the list of words (`reversed_list`).\n",
    "- Finally, we join the reversed list of words back into a new sentence using the `join()` method and return the result (`reversed_sentence`)."
   ]
  },
  {
   "cell_type": "markdown",
   "id": "255936a4-d50b-4bed-b140-0eb645927545",
   "metadata": {},
   "source": [
    "## 21. Write a Python program to check if two strings are anagrams of each other."
   ]
  },
  {
   "cell_type": "code",
   "execution_count": 22,
   "id": "e020d874-e69e-4c96-b783-b112c56d91a7",
   "metadata": {},
   "outputs": [
    {
     "name": "stdout",
     "output_type": "stream",
     "text": [
      "String 1: Listen\n",
      "String 2: Silent\n",
      "Are they anagrams? True\n"
     ]
    }
   ],
   "source": [
    "def are_anagrams(str1, str2):\n",
    "    # Convert both strings to lowercase to make the comparison case-sensitive\n",
    "    str1 = str1.lower()\n",
    "    str2 = str2.lower()\n",
    "    \n",
    "    # remove any spaces from both strings\n",
    "    str1 = str1.replace(\" \", \"\")\n",
    "    str2 = str2.replace(\" \", \"\")\n",
    "    \n",
    "    # Check if the sorted characters of both strings are the same\n",
    "    return sorted(str1) == sorted(str2)\n",
    "\n",
    "# test the function\n",
    "string1 = \"Listen\"\n",
    "string2 = \"Silent\"\n",
    "print(\"String 1:\", string1)\n",
    "print(\"String 2:\", string2)\n",
    "print(\"Are they anagrams?\", are_anagrams(string1, string2))"
   ]
  },
  {
   "cell_type": "markdown",
   "id": "e9c80bf9-a75b-403a-8fef-2288f64a2b43",
   "metadata": {},
   "source": [
    "Explanation:\n",
    "- The `are_anagrams()` function takes two strings (`str1` and `str2`) as input and returns a boolean value indicating whether they are anagrams of each other.\n",
    "- We convert both strings to lowercase using the `lower()` method to make the comparison case-insensitive.\n",
    "- We remove any spaces from both strings using the `replace()` method.\n",
    "- We then check if the sorted characters of both strings are the same. If they are, it means the strings are anagrams, and the function returns `True`; otherwise, it returns `False`."
   ]
  },
  {
   "cell_type": "markdown",
   "id": "1ed2c471-5163-48e7-9549-3d1278cf978f",
   "metadata": {},
   "source": [
    "## 22. Implement a function to find the first non-repeating character in a string."
   ]
  },
  {
   "cell_type": "code",
   "execution_count": 23,
   "id": "344c734b-e8a3-4bdb-9579-d73ec25e60f9",
   "metadata": {},
   "outputs": [
    {
     "name": "stdout",
     "output_type": "stream",
     "text": [
      "First non-repeating character: t\n"
     ]
    }
   ],
   "source": [
    "def first_non_repeating_char(input_str):\n",
    "    char_count = {}\n",
    "    \n",
    "    # Count the occurences of each character in the string\n",
    "    for char in input_str:\n",
    "        char_count[char] = char_count.get(char,0) + 1\n",
    "        \n",
    "    # Find the first non-repeating character\n",
    "    for char in input_str:\n",
    "        if char_count[char] == 1:\n",
    "            return char\n",
    "        \n",
    "    # If no non-repeating character found, return None\n",
    "    return None\n",
    "\n",
    "# test the function\n",
    "input_string = \"abacbcddeefft\"\n",
    "result = first_non_repeating_char(input_string)\n",
    "if result is not None:\n",
    "    print(\"First non-repeating character:\", result)\n",
    "else:\n",
    "    print(\"No non-repeating character found.\")"
   ]
  },
  {
   "cell_type": "markdown",
   "id": "f1f3385f-f5c3-4fcf-88fa-c03610c1002c",
   "metadata": {},
   "source": [
    "Explanation:\n",
    "- The `first_non_repeating_char()` function takes a string `input_str` as input and returns the first non-repeating character in the string.\n",
    "- We create a dictionary `char_count` to store the count of each character in the string.\n",
    "- We loop through each character in the input string and update its count in the dictionary.\n",
    "- After counting the occurrences of each character, we loop through the string again and check the count of each character in the dictionary.\n",
    "- If the count of a character is equal to 1, it means it is the first non-repeating character, and we return it.\n",
    "- If no non-repeating character is found, we return `None`."
   ]
  },
  {
   "cell_type": "markdown",
   "id": "9fe9ea4f-bdc6-45c4-9860-fccf7f87a4db",
   "metadata": {},
   "source": [
    "## 23. Write a program to find the prime factors of a given number."
   ]
  },
  {
   "cell_type": "code",
   "execution_count": 24,
   "id": "8067a481-3b34-4f55-a1e1-51ef30b3d628",
   "metadata": {},
   "outputs": [
    {
     "name": "stdout",
     "output_type": "stream",
     "text": [
      "Prime factors of 72 : [2, 3]\n"
     ]
    }
   ],
   "source": [
    "def is_prime(num):\n",
    "    if num <= 1:\n",
    "        return False\n",
    "    for i in range(2, int(num ** 0.5) + 1):\n",
    "        if num % i == 0:\n",
    "            return False\n",
    "    return True\n",
    "\n",
    "def prime_factors(number):\n",
    "    factors = []\n",
    "    if number <= 1:\n",
    "        return factors\n",
    "    \n",
    "    for i in range(2, number + 1):\n",
    "        if is_prime(i) and number % i == 0:\n",
    "            factors.append(i)\n",
    "            \n",
    "    return factors\n",
    "\n",
    "# Test the function\n",
    "num = 72\n",
    "print(\"Prime factors of\", num, \":\", prime_factors(num))"
   ]
  },
  {
   "cell_type": "markdown",
   "id": "2efc11ac-2b66-456d-847c-415e8dc1428d",
   "metadata": {},
   "source": [
    "Explanation:\n",
    "- The `is_prime()` function is a helper function that checks whether a given number is prime or not. It returns `True` if the number is prime and `False` otherwise.\n",
    "- The `prime_factors()` function takes a number as input and returns a list of its prime factors.\n",
    "- We first create an empty list `factors` to store the prime factors.\n",
    "- We then iterate through numbers from 2 to the given number (inclusive).\n",
    "- For each number in the range, we check if it is a prime number using the `is_prime()` function and if it is a factor of the given number (i.e., the given number is divisible by it). If both conditions are true, we add the number to the `factors` list.\n",
    "- Finally, we return the list of prime factors."
   ]
  },
  {
   "cell_type": "markdown",
   "id": "ff6057ee-e3e2-4fc9-aa48-37ad03dc9866",
   "metadata": {},
   "source": [
    "## 24. Implement a function to check if a given number is a power of two."
   ]
  },
  {
   "cell_type": "code",
   "execution_count": 25,
   "id": "080db86c-2367-4aac-9e84-73ecb439df97",
   "metadata": {},
   "outputs": [
    {
     "name": "stdout",
     "output_type": "stream",
     "text": [
      "16 is a power of two.\n"
     ]
    }
   ],
   "source": [
    "def is_power_of_two(number):\n",
    "    if number <= 0:\n",
    "        return False\n",
    "    return number & (number - 1) == 0\n",
    "\n",
    "# Test the function\n",
    "num = 16\n",
    "if is_power_of_two(num):\n",
    "    print(num, \"is a power of two.\")\n",
    "else:\n",
    "    print(num, \"is not a power of two.\")"
   ]
  },
  {
   "cell_type": "markdown",
   "id": "b9f01df8-25ff-4c96-8f0c-765e9fd7d629",
   "metadata": {},
   "source": [
    "Explanation:\n",
    "- The `is_power_of_two()` function takes a number as input and returns `True` if the number is a power of two, otherwise `False`.\n",
    "- A power of two in binary representation has only one bit set to 1 (e.g., 2^0 = 1, 2^1 = 10, 2^2 = 100, 2^3 = 1000, etc.).\n",
    "- If we subtract 1 from a power of two, all its bits will be set to 1 except for the most significant bit that was set to 1 in the original number (e.g., 2^3 = 1000, 2^3 - 1 = 0111).\n",
    "- When we perform the bitwise AND operation between a power of two and its subtracted value, the result will be 0, indicating that the number is a power of two."
   ]
  },
  {
   "cell_type": "markdown",
   "id": "aba72fc3-40af-4322-81e5-de02c36de2b3",
   "metadata": {},
   "source": [
    "## 25. Write a Python program to merge two sorted lists into a single sorted list."
   ]
  },
  {
   "cell_type": "code",
   "execution_count": 26,
   "id": "f734889c-6dda-4cd8-996e-d3924223328c",
   "metadata": {},
   "outputs": [
    {
     "name": "stdout",
     "output_type": "stream",
     "text": [
      "Merged Sorted List: [1, 2, 3, 4, 5, 6, 7, 8, 9, 10]\n"
     ]
    }
   ],
   "source": [
    "def merge_sorted_lists(list1, list2):\n",
    "    merged_list = []\n",
    "    i, j = 0, 0\n",
    "\n",
    "    while i < len(list1) and j < len(list2):\n",
    "        if list1[i] < list2[j]:\n",
    "            merged_list.append(list1[i])\n",
    "            i += 1\n",
    "        else:\n",
    "            merged_list.append(list2[j])\n",
    "            j += 1\n",
    "\n",
    "    # Append remaining elements from both lists\n",
    "    merged_list.extend(list1[i:])\n",
    "    merged_list.extend(list2[j:])\n",
    "\n",
    "    return merged_list\n",
    "\n",
    "# Sorted lists to merge\n",
    "list1 = [1, 3, 5, 7, 9]\n",
    "list2 = [2, 4, 6, 8, 10]\n",
    "\n",
    "# Merge the lists\n",
    "merged_result = merge_sorted_lists(list1, list2)\n",
    "\n",
    "# Print the merged result\n",
    "print(\"Merged Sorted List:\", merged_result)"
   ]
  },
  {
   "cell_type": "markdown",
   "id": "e309e70f-79c1-4426-af8f-c50025cfb0f0",
   "metadata": {},
   "source": [
    "Explanation:\n",
    "- The `merge_sorted_lists()` function takes two sorted lists `list1` and `list2` as input and returns a new list that contains all the elements from both lists in sorted order.\n",
    "- We use two pointers `i` and `j` to track the current positions in `list1` and `list2`, respectively.\n",
    "- We compare the elements at the current positions `i` and `j` in both lists and append the smaller element to the `merged_list`. Then, we move the corresponding pointer one step forward.\n",
    "- We continue this process until we reach the end of either `list1` or `list2`.\n",
    "- Finally, we append the remaining elements from the other list to the `merged_list`.\n",
    "- The `merged_list` is then returned as the output."
   ]
  },
  {
   "cell_type": "markdown",
   "id": "acc3abe4-faad-4616-90d1-5bf74632e564",
   "metadata": {},
   "source": [
    "## 26. Implement a function to find the mode of a list of numbers."
   ]
  },
  {
   "cell_type": "markdown",
   "id": "d1b8be91-ab52-4cbd-9505-257db9eba13d",
   "metadata": {},
   "source": [
    "The mode of a list of numbers is the number that appears most frequently in the list."
   ]
  },
  {
   "cell_type": "code",
   "execution_count": 27,
   "id": "408fabc5-f197-44f0-af4a-86e0018d0586",
   "metadata": {},
   "outputs": [
    {
     "name": "stdout",
     "output_type": "stream",
     "text": [
      "Mode(s) of the list: [5]\n"
     ]
    }
   ],
   "source": [
    "def find_mode(numbers):\n",
    "    freq_dict = {}\n",
    "    max_freq = 0\n",
    "    modes = []\n",
    "    \n",
    "    # Count the occurences of each numbers in the list\n",
    "    for num in numbers:\n",
    "        freq_dict[num] = freq_dict.get(num, 0) + 1\n",
    "        max_freq = max(max_freq, freq_dict[num])\n",
    "        \n",
    "    # Find all numbers with the max frequency (modes)\n",
    "    for num, freq in freq_dict.items():\n",
    "        if freq == max_freq:\n",
    "            modes.append(num)\n",
    "    \n",
    "    return modes\n",
    "\n",
    "# Test the function\n",
    "numbers_list = [2,3,5,7,8,5,5,4,3,2,5,7,1]\n",
    "result = find_mode(numbers_list)\n",
    "print(\"Mode(s) of the list:\", result)"
   ]
  },
  {
   "cell_type": "markdown",
   "id": "10520fd4-98a7-45d5-a882-74a33bc52823",
   "metadata": {},
   "source": [
    "Explanation:\n",
    "- The `find_mode()` function takes a list of numbers `numbers` as input and returns a list of all the modes (numbers with the maximum frequency) in the input list.\n",
    "- We create a dictionary `freq_dict` to store the count of occurrences of each number in the list.\n",
    "- We also keep track of the maximum frequency (`max_freq`) found so far.\n",
    "- We iterate through the list and update the count in the dictionary for each number.\n",
    "- At the same time, we update the `max_freq` with the maximum count found.\n",
    "- After counting the occurrences of each number, we iterate through the dictionary to find all numbers that have the maximum frequency and add them to the `modes` list.\n",
    "- Finally, we return the list of modes."
   ]
  },
  {
   "cell_type": "markdown",
   "id": "9bf8abb7-2c55-4088-a68d-251b12670b9a",
   "metadata": {},
   "source": [
    "## 27. Write a program to find the greatest common divisor (GCD) of two numbers."
   ]
  },
  {
   "cell_type": "markdown",
   "id": "0b915483-42a8-41eb-a4e9-ea7eac0e5ee4",
   "metadata": {},
   "source": [
    "Here's a Python program to find the greatest common divisor (GCD) of two numbers using the Euclidean algorithm:"
   ]
  },
  {
   "cell_type": "code",
   "execution_count": 28,
   "id": "024c1ca2-f714-4d72-9b96-f2e69cff4816",
   "metadata": {},
   "outputs": [
    {
     "name": "stdout",
     "output_type": "stream",
     "text": [
      "GCD of 24 and 36 is: 12\n"
     ]
    }
   ],
   "source": [
    "def gcd(a, b):\n",
    "    while b != 0:\n",
    "        a, b = b, a % b\n",
    "    return a\n",
    "\n",
    "# test the function\n",
    "num1 = 24\n",
    "num2 = 36\n",
    "result = gcd(num1, num2)\n",
    "print(\"GCD of\", num1, \"and\", num2, \"is:\", result)"
   ]
  },
  {
   "cell_type": "markdown",
   "id": "b11d33db-6918-414d-91fb-2d26cdbc33e5",
   "metadata": {},
   "source": [
    "Explanation:\n",
    "- The `gcd()` function takes two numbers `a` and `b` as input and returns their greatest common divisor (GCD).\n",
    "- The function uses the Euclidean algorithm, which repeatedly divides the larger number by the smaller number and updates the numbers until the remainder becomes 0.\n",
    "- The GCD is the value of the larger number when the remainder becomes 0."
   ]
  },
  {
   "cell_type": "markdown",
   "id": "37591557-1d71-4ca6-9404-57da1ae63413",
   "metadata": {},
   "source": [
    "## 28. Implement a function to calculate the square root of a given number."
   ]
  },
  {
   "cell_type": "markdown",
   "id": "50ebf694-a7bf-4991-b115-e818483d97bd",
   "metadata": {},
   "source": [
    "To calculate the square root of a given number we can use the `math.sqrt()` function from the Python `math` module."
   ]
  },
  {
   "cell_type": "code",
   "execution_count": 29,
   "id": "995b7f25-14f8-4ae6-9e77-0e09332d8779",
   "metadata": {},
   "outputs": [
    {
     "name": "stdout",
     "output_type": "stream",
     "text": [
      "Square root of 25 is: 5.0\n"
     ]
    }
   ],
   "source": [
    "import math\n",
    "\n",
    "def square_root(number):\n",
    "    if number < 0:\n",
    "        raise ValueError(\"Square root is not defined for negative numbers\")\n",
    "        \n",
    "    return math.sqrt(number)\n",
    "\n",
    "# test the function\n",
    "number = 25\n",
    "result = square_root(number)\n",
    "print(\"Square root of\", number, \"is:\", result)"
   ]
  },
  {
   "cell_type": "markdown",
   "id": "257c4d6c-9d36-449b-885d-7433faeed54e",
   "metadata": {},
   "source": [
    " Explanation:\n",
    "- In this approach, we utilize the `math.sqrt()` function from the `math` module in Python.\n",
    "- The `math.sqrt()` function takes a non-negative number as input and returns its square root as a floating-point number.\n",
    "- If the input number is negative, the function raises a `ValueError` to indicate that the square root is not defined for negative numbers."
   ]
  },
  {
   "cell_type": "markdown",
   "id": "59146cc0-1cb0-4176-a1a4-485456472621",
   "metadata": {},
   "source": [
    "## 29. Write a Python program to check if a given string is a valid palindrome ignoring non-alphanumeric characters."
   ]
  },
  {
   "cell_type": "code",
   "execution_count": 30,
   "id": "589e33ce-cbc2-485f-a014-7f3980ba1062",
   "metadata": {},
   "outputs": [
    {
     "name": "stdout",
     "output_type": "stream",
     "text": [
      "Is the given string a valid palindrome? True\n"
     ]
    }
   ],
   "source": [
    "import re\n",
    "\n",
    "def is_palindrome(s):\n",
    "    # Remove non=alphnumeric characters and convert to lowercase\n",
    "    s = re.sub(r'\\W+', '', s).lower()\n",
    "    \n",
    "    # Check if the string is a palindrome\n",
    "    return s == s[::-1]\n",
    "\n",
    "# test the function\n",
    "input_strng = \"A man, a plan, a canal: Panama\"\n",
    "print(\"Is the given string a valid palindrome?\", is_palindrome(input_strng))"
   ]
  },
  {
   "cell_type": "markdown",
   "id": "6ed83aef-6596-46bc-8bde-cecc56bd0428",
   "metadata": {},
   "source": [
    "Explanation:\n",
    "- The `is_valid_palindrome()` function takes a string `s` as input and returns `True` if the string is a valid palindrome after removing non-alphanumeric characters and converting to lowercase, otherwise it returns `False`.\n",
    "- The `re.sub(r'\\W+', '', s).lower()` part of the code uses a regular expression (`\\W+`) to remove all non-alphanumeric characters from the string `s`, and then converts the resulting string to lowercase using the `lower()` method.\n",
    "- After removing non-alphanumeric characters and converting to lowercase, we check if the resulting string is equal to its reverse (`s == s[::-1]`), which indicates whether the original string is a palindrome."
   ]
  },
  {
   "cell_type": "markdown",
   "id": "c37df3b4-3740-4e96-877a-12a876bfda21",
   "metadata": {},
   "source": [
    "## 30. Implement a function to find the minimum element in a rotated sorted list."
   ]
  },
  {
   "cell_type": "markdown",
   "id": "74c6b2c2-9c42-4eaa-8d4d-d0077ba731bb",
   "metadata": {},
   "source": [
    "To find the minimum element in a rotated sorted list, you can use a modified binary search algorithm."
   ]
  },
  {
   "cell_type": "code",
   "execution_count": 31,
   "id": "1a27ad98-219d-496a-b8b9-9e66b158188b",
   "metadata": {},
   "outputs": [
    {
     "name": "stdout",
     "output_type": "stream",
     "text": [
      "Minimum element in the rotated sorted list: 0\n"
     ]
    }
   ],
   "source": [
    "def find_min_in_rotated_list(nums):\n",
    "    left, right = 0, len(nums) - 1\n",
    "    \n",
    "    while left < right:\n",
    "        mid = left + (right - left) // 2\n",
    "        \n",
    "        if nums[mid] > nums[right]:\n",
    "            left = mid + 1\n",
    "        else:\n",
    "            right = mid\n",
    "            \n",
    "    return nums[left]\n",
    "\n",
    "# Test the function\n",
    "rotated_list = [4,5,6,7,0,1,2]\n",
    "result = find_min_in_rotated_list(rotated_list)\n",
    "print(\"Minimum element in the rotated sorted list:\", result)"
   ]
  },
  {
   "cell_type": "markdown",
   "id": "14b7286c-166e-4509-9d80-411a5297f58b",
   "metadata": {},
   "source": [
    "Explanation:\n",
    "- The `find_min_in_rotated_list()` function takes a rotated sorted list `nums` as input and returns the minimum element in the list.\n",
    "- We initialize two pointers, `left` and `right`, which represent the start and end of the current search range.\n",
    "- The function uses a modified binary search algorithm to find the minimum element. In each iteration of the while loop, it calculates the mid index of the current range.\n",
    "- If `nums[mid] > nums[right]`, it means the minimum element must be on the right side of the mid index, so we update `left` to `mid + 1`.\n",
    "- Otherwise, the minimum element must be on the left side of the mid index, so we update `right` to `mid`.\n",
    "- The loop continues until `left` and `right` point to the same element, which is the minimum element in the rotated sorted list."
   ]
  },
  {
   "cell_type": "markdown",
   "id": "d5c705b0-047d-480f-a8e3-b2de0ab44879",
   "metadata": {},
   "source": [
    "## 31. Write a program to find the sum of all even numbers in a list."
   ]
  },
  {
   "cell_type": "code",
   "execution_count": 32,
   "id": "78410649-b59d-44ff-8251-8da4285317ce",
   "metadata": {},
   "outputs": [
    {
     "name": "stdout",
     "output_type": "stream",
     "text": [
      "Sum of even numbers in the list: 30\n"
     ]
    }
   ],
   "source": [
    "def sum_of_even_numbers(nums):\n",
    "    # Initialize a variable to hold the sum of even numbers\n",
    "    total = 0\n",
    "    \n",
    "    # Iterate through the list\n",
    "    for num in nums:\n",
    "        # Check if the number is even\n",
    "        if num % 2 == 0:\n",
    "            # Add the even number to the total sum\n",
    "            total += num\n",
    "    \n",
    "    return total\n",
    "\n",
    "# test the function\n",
    "numbers_list = [1,2,3,4,5,6,7,8,9,10]\n",
    "result = sum_of_even_numbers(numbers_list)\n",
    "print(\"Sum of even numbers in the list:\", result)"
   ]
  },
  {
   "cell_type": "markdown",
   "id": "320a1f01-5aef-4205-b9b1-b8ce1856a7fc",
   "metadata": {},
   "source": [
    "Explanation:\n",
    "- The `sum_of_even_numbers()` function takes a list of numbers `nums` as input and returns the sum of all even numbers in the list.\n",
    "- We initialize a variable `total` to 0 to store the sum of even numbers.\n",
    "- The function iterates through the list using a `for` loop and checks each number to see if it is even (i.e., its remainder when divided by 2 is 0).\n",
    "- If a number is even, we add it to the `total` sum using the `+=` operator.\n",
    "- After iterating through all numbers in the list, the function returns the final sum of even numbers."
   ]
  },
  {
   "cell_type": "markdown",
   "id": "4a8a57ee-4911-474d-8729-747dd14bbf88",
   "metadata": {},
   "source": [
    "## 32. Implement a function to calculate the power of a number using recursion."
   ]
  },
  {
   "cell_type": "markdown",
   "id": "3be383b7-e978-4c9b-adeb-daa9cca695d6",
   "metadata": {},
   "source": [
    "To calculate the power of a number using recursion, we can implement a recursive function that multiplies the base number with itself recursively until the desired power is reached."
   ]
  },
  {
   "cell_type": "code",
   "execution_count": 33,
   "id": "f1d142ff-5fbf-4d82-be81-3bd0656a5f19",
   "metadata": {},
   "outputs": [
    {
     "name": "stdout",
     "output_type": "stream",
     "text": [
      "2 raised to the power 3 is: 8\n"
     ]
    }
   ],
   "source": [
    "def power(base, exponent):\n",
    "    # base case: when the exponent is 0, the result is 1\n",
    "    if exponent == 0:\n",
    "        return 1\n",
    "    # Recursive case: calculate power using recursion\n",
    "    else:\n",
    "        return base * power(base, exponent - 1)\n",
    "    \n",
    "# test the function\n",
    "base_number = 2\n",
    "exponent_number = 3\n",
    "result = power(base_number, exponent_number)\n",
    "print(f\"{base_number} raised to the power {exponent_number} is:\", result)"
   ]
  },
  {
   "cell_type": "markdown",
   "id": "8e62e453-3e52-402e-91f7-d3898ebf0204",
   "metadata": {},
   "source": [
    "Explanation:\n",
    "- The `power()` function takes two arguments: `base` and `exponent`, representing the base number and the power to which it needs to be raised.\n",
    "- The function uses recursion to calculate the power. It has a base case where the exponent is 0, and in that case, the function returns 1 (any number raised to the power of 0 is 1).\n",
    "- In the recursive case, the function returns the product of the base number and the result of calling itself with the base number and the decremented exponent (`base * power(base, exponent - 1)`).\n",
    "- The recursion continues until the exponent becomes 0, at which point the base case is triggered, and the recursion unwinds to return the final result."
   ]
  },
  {
   "cell_type": "markdown",
   "id": "846ea37d-c885-455e-afe7-7f07f93b1704",
   "metadata": {},
   "source": [
    "## 33. Write a Python program to remove duplicates from a list while preserving the order."
   ]
  },
  {
   "cell_type": "code",
   "execution_count": 34,
   "id": "007a7c42-ec2b-4fe6-9639-25e3d2ce7245",
   "metadata": {},
   "outputs": [
    {
     "name": "stdout",
     "output_type": "stream",
     "text": [
      "List with duplicates removed: [1, 2, 3, 4, 5, 6, 7, 8]\n"
     ]
    }
   ],
   "source": [
    "def remove_duplicates(input_list):\n",
    "    # Initialize an empty list to store unique elements while preserving order\n",
    "    unique_list =[]\n",
    "    \n",
    "    # Iterate through the input list\n",
    "    for item in input_list:\n",
    "        # If the item is not already in the unique list, add it\n",
    "        if item not in unique_list:\n",
    "            unique_list.append(item)\n",
    "            \n",
    "    return unique_list\n",
    "\n",
    "# test the function\n",
    "input_list = [1,2,3,4,5,6,7,8,4,1,3,2]\n",
    "result = remove_duplicates(input_list)\n",
    "print(\"List with duplicates removed:\", result)"
   ]
  },
  {
   "cell_type": "markdown",
   "id": "1ccb720a-65f7-469d-af14-24964b9f3c57",
   "metadata": {},
   "source": [
    "Explanation:\n",
    "- The `remove_duplicates()` function takes a list `input_list` as input and returns a new list containing only the unique elements while preserving their order.\n",
    "- We initialize an empty list `unique_list` to store the unique elements.\n",
    "- The function iterates through the input list using a `for` loop and checks each item to see if it is already present in the `unique_list`.\n",
    "- If the item is not already in the `unique_list`, we add it using the `append()` method, ensuring that only the first occurrence of each element is added to the list.\n",
    "- After processing all elements in the input list, the function returns the `unique_list` containing only the unique elements in their original order."
   ]
  },
  {
   "cell_type": "markdown",
   "id": "55597f0c-3bef-4944-82db-5abfba2e213e",
   "metadata": {},
   "source": [
    "## 34. Implement a function to find the longest common prefix among a list of strings."
   ]
  },
  {
   "cell_type": "code",
   "execution_count": 35,
   "id": "c1958cf0-1206-4818-8f6f-4206589dca44",
   "metadata": {},
   "outputs": [
    {
     "name": "stdout",
     "output_type": "stream",
     "text": [
      "Longest common prefix: fl\n"
     ]
    }
   ],
   "source": [
    "def longest_common_prefix(strs):\n",
    "    # Check if the list is empty\n",
    "    if not strs:\n",
    "        return \"\"\n",
    "    \n",
    "    # Initialize the longest common prefix as the first string in the list\n",
    "    prefix = strs[0]\n",
    "    \n",
    "    #Iterate through the remaining strings in the list\n",
    "    for s in strs[1:]:\n",
    "        #Find the common prefix between the current prefix and the current string\n",
    "        i = 0\n",
    "        while i < len(prefix) and i < len(s) and prefix[i] == s[i]:\n",
    "            i += 1\n",
    "        prefix = prefix[:i]\n",
    "        \n",
    "    return prefix\n",
    "\n",
    "# Test the function\n",
    "strings_list = [\"flower\", \"flow\", \"flight\", \"float\"]\n",
    "result = longest_common_prefix(strings_list)\n",
    "print(\"Longest common prefix:\", result)"
   ]
  },
  {
   "cell_type": "markdown",
   "id": "04f5d4a0-6a4e-4667-8733-ad01ac7544d9",
   "metadata": {},
   "source": [
    "Explanation:\n",
    "- The `longest_common_prefix()` function takes a list of strings `strs` as input and returns the longest common prefix among them.\n",
    "- We first check if the list is empty. If it is, there is no common prefix, so we return an empty string.\n",
    "- We initialize the `prefix` variable with the first string in the list.\n",
    "- The function then iterates through the remaining strings in the list using a `for` loop.\n",
    "- For each string, we find the common prefix between the current `prefix` and the string by comparing characters at each position until a mismatch is found or one of the strings is exhausted.\n",
    "- The common prefix is updated at each step, and after processing all strings in the list, the final value of `prefix` will be the longest common prefix."
   ]
  },
  {
   "cell_type": "markdown",
   "id": "73949250-be6e-4016-924a-58fb56586033",
   "metadata": {},
   "source": [
    "## 35. Write a program to check if a given number is a perfect square."
   ]
  },
  {
   "cell_type": "markdown",
   "id": "9d13ba72-7d83-49f2-b009-94682b94aeed",
   "metadata": {},
   "source": [
    "To check if a given number is a perfect square, we can use the property that a perfect square is an integer that is equal to the square of another integer. "
   ]
  },
  {
   "cell_type": "code",
   "execution_count": 36,
   "id": "cc00f3e1-c4d7-4df6-9e06-c40a1dd686d7",
   "metadata": {},
   "outputs": [
    {
     "name": "stdout",
     "output_type": "stream",
     "text": [
      "25 is a perfect square\n"
     ]
    }
   ],
   "source": [
    "def is_perfect_square(num):\n",
    "    #base case: check if the number is less than 0\n",
    "    if num < 0:\n",
    "        return False\n",
    "    \n",
    "    # Use the property that a perfect square is an integer whose square root is an integer\n",
    "    sqrt_num = int(num ** 0.5)\n",
    "    return sqrt_num * sqrt_num == num\n",
    "\n",
    "# Test the function\n",
    "number = 25\n",
    "if is_perfect_square(number):\n",
    "    print(f\"{number} is a perfect square\")\n",
    "else:\n",
    "    print(f\"{number} is not a perfect square\")"
   ]
  },
  {
   "cell_type": "markdown",
   "id": "895bd5d3-6ee8-498a-be4e-7f26e96dc8fa",
   "metadata": {},
   "source": [
    "Explanation:\n",
    "- The `is_perfect_square()` function takes an integer `num` as input and returns `True` if `num` is a perfect square, and `False` otherwise.\n",
    "- We first check the base case to ensure that the number is non-negative. A negative number cannot be a perfect square since squaring a negative number gives a positive result.\n",
    "- We then calculate the square root of the number using the expression `num ** 0.5`. The `int()` function is used to convert the result to an integer, truncating any decimal part.\n",
    "- Finally, we check if the square of the square root (`sqrt_num * sqrt_num`) is equal to the original number. If they are equal, it means the number is a perfect square."
   ]
  },
  {
   "cell_type": "markdown",
   "id": "f30fc500-335e-4b47-82d0-69bc52ebe71d",
   "metadata": {},
   "source": [
    "## 36. Implement a function to calculate the product of all elements in a list."
   ]
  },
  {
   "cell_type": "code",
   "execution_count": 37,
   "id": "efff1666-0cf6-42b4-a989-4483f840aa25",
   "metadata": {},
   "outputs": [
    {
     "name": "stdout",
     "output_type": "stream",
     "text": [
      "Product of elements: 120\n"
     ]
    }
   ],
   "source": [
    "def product_of_elements(input_list):\n",
    "    # Initialize the product as 1\n",
    "    product = 1\n",
    "    \n",
    "    # Iterate through the elements in the list\n",
    "    for num in input_list:\n",
    "        # Multiply each element to the current product\n",
    "        product *= num\n",
    "        \n",
    "    return product\n",
    "\n",
    "# Test the function\n",
    "numbers = [2,3,4,5]\n",
    "result = product_of_elements(numbers)\n",
    "print(\"Product of elements:\", result)"
   ]
  },
  {
   "cell_type": "markdown",
   "id": "a86f4848-be6b-4892-b885-f4fc5ff3a3e3",
   "metadata": {},
   "source": [
    "Explanation:\n",
    "- The `product_of_elements()` function takes a list `input_list` as input and returns the product of all elements in the list.\n",
    "- We initialize the `product` variable to 1, as multiplying by 1 does not change the value.\n",
    "- The function then iterates through each element in the list using a `for` loop.\n",
    "- For each element, we multiply it with the current `product` value using the `*=` operator. This updates the `product` to include the contribution of the current element.\n",
    "- After processing all elements in the list, the final value of `product` will be the product of all elements in the list."
   ]
  },
  {
   "cell_type": "markdown",
   "id": "aaa1c48b-1a0d-4fe8-bc61-2ffd324ed978",
   "metadata": {},
   "source": [
    "## 37. Write a Python program to reverse the order of words in a sentence while preserving the word order."
   ]
  },
  {
   "cell_type": "code",
   "execution_count": 38,
   "id": "76a00e94-892b-49ff-8d2a-0def503fa721",
   "metadata": {},
   "outputs": [
    {
     "name": "stdout",
     "output_type": "stream",
     "text": [
      "Reversed senetence: you? are how world, Hello\n"
     ]
    }
   ],
   "source": [
    "def reverse_sentence(sentence):\n",
    "    # Split the sentence into words using whitespace as the delimiter\n",
    "    words = sentence.split()\n",
    "    \n",
    "    # Reverse the list of words\n",
    "    reversed_words = words[::-1]\n",
    "    \n",
    "    # Join the reversed words to form the reversed sentence\n",
    "    reversed_sentence = \" \".join (reversed_words)\n",
    "    \n",
    "    return reversed_sentence\n",
    "\n",
    "# test the function\n",
    "input_sentence = \"Hello world, how are you?\"\n",
    "reversed_sentence = reverse_sentence(input_sentence)\n",
    "print(\"Reversed senetence:\", reversed_sentence)"
   ]
  },
  {
   "cell_type": "markdown",
   "id": "c6ba3b07-97b7-44d7-9cd9-d356cfac5136",
   "metadata": {},
   "source": [
    "Explanation:\n",
    "- The `reverse_sentence()` function takes a sentence `sentence` as input and returns the reversed version of the sentence while preserving the word order.\n",
    "- We first split the input sentence into a list of words using the `split()` method. The default delimiter is whitespace, so it will separate the words based on spaces.\n",
    "- We then reverse the list of words using slicing notation `[::-1]`. This creates a reversed copy of the list without modifying the original list.\n",
    "- Finally, we join the reversed list of words back into a single string using the `join()` method with whitespace as the delimiter."
   ]
  },
  {
   "cell_type": "markdown",
   "id": "b3e32cce-8a91-45b7-ba32-e5fe554158b5",
   "metadata": {},
   "source": [
    "## 38. Implement a function to find the missing number in a given list of consecutive numbers."
   ]
  },
  {
   "cell_type": "markdown",
   "id": "986b959f-737d-4194-95ec-aa0bd2a4a4c7",
   "metadata": {},
   "source": [
    "To find the missing number in a given list of consecutive numbers, we can use the formula for the sum of an arithmetic sequence and then compare it with the sum of the actual elements in the list. The difference between these sums will be the missing number."
   ]
  },
  {
   "cell_type": "code",
   "execution_count": 39,
   "id": "cf6fa9a6-7689-49d4-9966-21d858fadbd5",
   "metadata": {},
   "outputs": [
    {
     "name": "stdout",
     "output_type": "stream",
     "text": [
      "Missing number: 5\n"
     ]
    }
   ],
   "source": [
    "def find_missing_number(nums):\n",
    "    # calculate the expected sum of the consecutive nnumbers using the formula for an arithmetic sequence\n",
    "    n = len(nums) + 1 # Number of elements in the original sequence (including the missing number)\n",
    "    expected_sum = (n * (n+1)) // 2\n",
    "    \n",
    "    # calculete the actual sum of the elements in the list\n",
    "    actual_sum = sum(nums)\n",
    "    \n",
    "    # The difference between the expected and actual sum will be the missing number\n",
    "    missing_number = expected_sum - actual_sum\n",
    "    \n",
    "    return missing_number\n",
    "\n",
    "# test the function\n",
    "numbers = [1,2,3,4,6]\n",
    "missing_number = find_missing_number(numbers)\n",
    "print(\"Missing number:\", missing_number)"
   ]
  },
  {
   "cell_type": "markdown",
   "id": "50da82d0-04d0-4ab6-957f-20d50c6f8e0a",
   "metadata": {},
   "source": [
    "Explanation:\n",
    "- The `find_missing_number()` function takes a list of consecutive numbers `nums` as input and returns the missing number in the sequence.\n",
    "- We calculate the expected sum of the consecutive numbers using the formula for an arithmetic sequence, where `n` is the number of elements in the original sequence (including the missing number).\n",
    "- We then calculate the actual sum of the elements in the list using the `sum()` function.\n",
    "- The missing number is the difference between the expected and actual sum."
   ]
  },
  {
   "cell_type": "markdown",
   "id": "fa1c4c06-20e9-4809-9359-336008eed6f2",
   "metadata": {},
   "source": [
    "## 39. Write a program to find the sum of digits of a given number."
   ]
  },
  {
   "cell_type": "code",
   "execution_count": 40,
   "id": "dd0d46a3-8353-4269-9b6e-fcda76a4e1c0",
   "metadata": {},
   "outputs": [
    {
     "name": "stdout",
     "output_type": "stream",
     "text": [
      "Sum of digits: 15\n"
     ]
    }
   ],
   "source": [
    "def sum_of_digits(number):\n",
    "    # Initialize the sum to 0\n",
    "    sum_digits = 0\n",
    "    \n",
    "    # Convert the number to a string to iterate through its digits\n",
    "    num_str = str(number)\n",
    "    \n",
    "    # Iterate through each digit in the string\n",
    "    for digit in num_str:\n",
    "        # Convert the digit back to an integer and add it to the sum\n",
    "        sum_digits += int(digit)\n",
    "        \n",
    "    return sum_digits\n",
    "\n",
    "#test the function\n",
    "num = 12345\n",
    "result = sum_of_digits(num)\n",
    "print(\"Sum of digits:\", result)"
   ]
  },
  {
   "cell_type": "markdown",
   "id": "71b64448-9bcb-4aa1-9dee-da6740642c86",
   "metadata": {},
   "source": [
    "Explanation:\n",
    "- The `sum_of_digits()` function takes a number `number` as input and returns the sum of its digits.\n",
    "- We initialize the `sum_digits` variable to 0, which will hold the sum of the digits.\n",
    "- We convert the input number to a string using `str()` so that we can iterate through each digit as characters in the string.\n",
    "- We use a `for` loop to iterate through each digit in the string.\n",
    "- For each digit, we convert it back to an integer using `int()` and add it to the `sum_digits` variable.\n",
    "- After processing all digits, the final value of `sum_digits` will be the sum of digits of the given number."
   ]
  },
  {
   "cell_type": "markdown",
   "id": "181b5d3f-3a6e-45ff-940a-bca91dfcd541",
   "metadata": {},
   "source": [
    "## 40. Implement a function to check if a given string is a valid palindrome considering case sensitivity."
   ]
  },
  {
   "cell_type": "code",
   "execution_count": 41,
   "id": "fe423a19-fac5-4cd1-8b50-b7f6d0913e6b",
   "metadata": {},
   "outputs": [
    {
     "name": "stdout",
     "output_type": "stream",
     "text": [
      "Is valid palindrome: True\n"
     ]
    }
   ],
   "source": [
    "def is_valid_palindrome(s):\n",
    "    # Remove non-alphanumeric characters and convert the string to lowercase\n",
    "    s = ''.join(c.lower() for c in s if c.isalnum())\n",
    "    \n",
    "    # Compare the original string with its reverse\n",
    "    return s == s[::-1]\n",
    "\n",
    "# Test the function\n",
    "input_string = \"A man, a plan, a canal: Panama\"\n",
    "result = is_valid_palindrome(input_string)\n",
    "print(\"Is valid palindrome:\", result)"
   ]
  },
  {
   "cell_type": "markdown",
   "id": "450c4a84-b37c-4455-bdd4-47e9ff0f8726",
   "metadata": {},
   "source": [
    "Explanation:\n",
    "- The `is_valid_palindrome()` function takes a string `s` as input and returns `True` if it is a valid palindrome (considering case sensitivity), and `False` otherwise.\n",
    "- We first remove all non-alphanumeric characters from the string and convert it to lowercase using list comprehension and `join()` method.\n",
    "- Then, we compare the original string `s` with its reverse `s[::-1]`. If they are the same, the string is a valid palindrome."
   ]
  },
  {
   "cell_type": "markdown",
   "id": "e531a4ef-e228-4ea5-8c78-eb03cd5f781d",
   "metadata": {},
   "source": [
    "## 41. Write a Python program to find the smallest missing positive integer in a list."
   ]
  },
  {
   "cell_type": "markdown",
   "id": "1084dd35-74f3-47e7-b595-ea0f0acf7031",
   "metadata": {},
   "source": [
    "To find the smallest missing positive integer in a list, we can use the concept of swapping elements in place to organize the list. We traverse the list and place each positive integer `x` in its correct position at index `x-1`. After rearranging the list, we can find the smallest missing positive integer by iterating through the list and checking if the element at index `i` is equal to `i + 1`. If not, then `i + 1` is the smallest missing positive integer."
   ]
  },
  {
   "cell_type": "code",
   "execution_count": 42,
   "id": "591c4cbb-4bbc-46d5-baf0-6eb2a90255cc",
   "metadata": {},
   "outputs": [
    {
     "name": "stdout",
     "output_type": "stream",
     "text": [
      "Smallest missing positive integer: 2\n"
     ]
    }
   ],
   "source": [
    "def first_missing_positive(nums):\n",
    "    n = len(nums)\n",
    "    \n",
    "    # First pass to organize the list by swapping elements to their correct positions\n",
    "    for i in range(n):\n",
    "        while 1 <= nums[i] <= n and nums[nums[i] - 1] != nums[i]:\n",
    "            nums[nums[i] - 1], nums[i] = nums[i], nums[nums[i] - 1]\n",
    "    # Second pass to find the smallest missing positive integer\n",
    "    for i in range(n):\n",
    "        if nums[i] != i + 1:\n",
    "            return i + 1\n",
    "    # If all positive integers from 1 to n are present, then the smallest missing positive is n+1\n",
    "    return n + 1\n",
    "\n",
    "# TEst the function\n",
    "numbers = [3, 4, -1, 1]\n",
    "result = first_missing_positive(numbers)\n",
    "print(\"Smallest missing positive integer:\", result)"
   ]
  },
  {
   "cell_type": "markdown",
   "id": "22f0f050-c520-4a31-9803-cba4e25170e1",
   "metadata": {},
   "source": [
    "Explanation:\n",
    "- The `first_missing_positive()` function takes a list of integers `nums` as input and returns the smallest missing positive integer in the list.\n",
    "- In the first pass, we rearrange the list by swapping elements to their correct positions. For example, if we find a positive integer `x` at index `i`, we move it to its correct position at index `x-1` (if it's within the bounds of the list).\n",
    "- In the second pass, we check if the element at index `i` is equal to `i + 1`. If not, then `i + 1` is the smallest missing positive integer.\n",
    "- If all positive integers from 1 to `n` are present in the list, then the smallest missing positive is `n+1`."
   ]
  },
  {
   "cell_type": "markdown",
   "id": "38ed7505-0ebf-4285-93f4-db05bfeda52a",
   "metadata": {},
   "source": [
    "## 42. Implement a function to find the longest palindrome substring in a given string."
   ]
  },
  {
   "cell_type": "markdown",
   "id": "4ff75421-c499-49dc-bf42-d939fd578cff",
   "metadata": {},
   "source": [
    "To find the longest palindrome substring in a given string, we can use the dynamic programming approach. We can create a 2D table to store whether substrings are palindromes or not, and then use it to find the longest palindrome substring. "
   ]
  },
  {
   "cell_type": "code",
   "execution_count": 43,
   "id": "3eb18c9b-92ef-4059-ae22-5476661e9d4d",
   "metadata": {},
   "outputs": [
    {
     "name": "stdout",
     "output_type": "stream",
     "text": [
      "Longest palindrome substring: bab\n"
     ]
    }
   ],
   "source": [
    "def longest_palindrome_substring(s):\n",
    "    n = len(s)\n",
    "    \n",
    "    # Initialize a 2D table to store whether substrings are palindromes or not\n",
    "    dp = [[False] * n for _ in range(n)]\n",
    "    \n",
    "    # All substrings of length 1 are palindromes\n",
    "    for i in range(n):\n",
    "        dp [i][i] = True\n",
    "        \n",
    "    # Check for palindromes of length 2\n",
    "    start = 0\n",
    "    max_length = 1\n",
    "    for i in range(n-1):\n",
    "        if s[i] == s[i+1]:\n",
    "            dp[i][i+1] = True\n",
    "            start = i\n",
    "            max_length = 2\n",
    "            \n",
    "    # Check for palindromes of length 3 or more\n",
    "    for length in range(3, n+1):\n",
    "        for i in range(n - length + 1):\n",
    "            j = i + length - 1\n",
    "            if s[i] == s[j] and dp[i+1][j-1]:\n",
    "                dp [i][j] = True\n",
    "                if length > max_length:\n",
    "                    start = i\n",
    "                    max_length = length\n",
    "                    \n",
    "    # Return the longest palinf=drome substring\n",
    "    return s[start: start + max_length]\n",
    "\n",
    "# Test the function\n",
    "input_str = \"babad\"\n",
    "result = longest_palindrome_substring(input_str)\n",
    "print(\"Longest palindrome substring:\", result)"
   ]
  },
  {
   "cell_type": "markdown",
   "id": "48a440ab-a4c1-40b3-a0d3-3e9d9bbcd41d",
   "metadata": {},
   "source": [
    "Explanation:\n",
    "- The `longest_palindrome_substring()` function takes a string `s` as input and returns the longest palindrome substring in that string.\n",
    "- It uses a dynamic programming table `dp` to store whether substrings are palindromes or not. The table is filled based on the palindromes of length 1, 2, and so on.\n",
    "- The function then returns the longest palindrome substring found using the `dp` table."
   ]
  },
  {
   "cell_type": "markdown",
   "id": "b2d046cd-0c86-4aaa-a043-c8b09619a5c1",
   "metadata": {},
   "source": [
    "## 43. Write a program to find the number of occurrences of a given element in a list."
   ]
  },
  {
   "cell_type": "code",
   "execution_count": 44,
   "id": "7423f993-3558-432f-ae18-272c6bcc6680",
   "metadata": {},
   "outputs": [
    {
     "name": "stdout",
     "output_type": "stream",
     "text": [
      "Number of occurences of 2 in the list: 3\n"
     ]
    }
   ],
   "source": [
    "def count_occurences(lst, target):\n",
    "    count = 0\n",
    "    for item in lst:\n",
    "        if item == target:\n",
    "            count += 1\n",
    "    return count\n",
    "\n",
    "# test the function\n",
    "my_list = [1,2,4,6,8,3,2,1,2,4,4,6,7]\n",
    "element = 2\n",
    "result = count_occurences(my_list, element)\n",
    "print(f\"Number of occurences of {element} in the list: {result}\")"
   ]
  },
  {
   "cell_type": "markdown",
   "id": "25868e83-75f7-44b4-a5ca-376c58e1ce08",
   "metadata": {},
   "source": [
    "Explanation:\n",
    "- The `count_occurrences()` function takes a list `lst` and a target element `target` as input and returns the number of occurrences of `target` in the list.\n",
    "- It initializes a variable `count` to 0, which will keep track of the number of occurrences.\n",
    "- The function then iterates through each element in the list using a for loop.\n",
    "- For each element in the list, it checks if it is equal to the target element. If it is, it increments the `count` variable by 1.\n",
    "- Finally, it returns the `count`, which represents the number of occurrences of the target element in the list."
   ]
  },
  {
   "cell_type": "markdown",
   "id": "66829caa-e5cb-40fa-9822-68f693f12097",
   "metadata": {},
   "source": [
    "## 44. Implement a function to check if a given number is a perfect number."
   ]
  },
  {
   "cell_type": "markdown",
   "id": "8c438292-e0dd-4385-a5f6-f5a0d2dc3bbc",
   "metadata": {},
   "source": [
    "A perfect number is a positive integer that is equal to the sum of its proper divisors (excluding itself)."
   ]
  },
  {
   "cell_type": "code",
   "execution_count": 45,
   "id": "03e63153-47de-4e53-b477-11ec8db3a3fd",
   "metadata": {},
   "outputs": [
    {
     "name": "stdout",
     "output_type": "stream",
     "text": [
      "28 is a perfect number.\n"
     ]
    }
   ],
   "source": [
    "def is_perfect_number(num):\n",
    "    if num <= 0:\n",
    "        return False\n",
    "    \n",
    "    divisors_sum = 0\n",
    "    for i in range(1, num):\n",
    "        if num % i == 0:\n",
    "            divisors_sum += i\n",
    "            \n",
    "    return divisors_sum == num\n",
    "\n",
    "# Test the function\n",
    "num = 28\n",
    "result = is_perfect_number(num)\n",
    "if result:\n",
    "    print(f\"{num} is a perfect number.\")\n",
    "else:\n",
    "    print(f\"{num} is not a perfect number.\")"
   ]
  },
  {
   "cell_type": "markdown",
   "id": "be94f677-784c-4269-a6cf-4e4afa737a31",
   "metadata": {},
   "source": [
    "Explanation:\n",
    "- The `is_perfect_number()` function takes an integer `num` as input and returns True if `num` is a perfect number, otherwise it returns False.\n",
    "- It first checks if the input number is less than or equal to 0, in which case it cannot be a perfect number, so it returns False.\n",
    "- The function then initializes a variable `divisors_sum` to 0, which will keep track of the sum of divisors of `num`.\n",
    "- It uses a for loop to iterate from 1 to `num - 1`, as proper divisors of `num` are less than `num`.\n",
    "- For each number `i` in the loop, it checks if `num` is divisible by `i` without any remainder. If it is, then `i` is a proper divisor of `num`, so it adds `i` to the `divisors_sum`.\n",
    "- Finally, it returns True if the `divisors_sum` is equal to `num`, indicating that the number is a perfect number."
   ]
  },
  {
   "cell_type": "markdown",
   "id": "1b8227bb-7f01-4067-a2f1-31504ce551ca",
   "metadata": {},
   "source": [
    "## 45. Write a Python program to remove all duplicates from a string."
   ]
  },
  {
   "cell_type": "code",
   "execution_count": 46,
   "id": "6104d293-c309-4ea7-bade-a7f11d9a70d0",
   "metadata": {},
   "outputs": [
    {
     "name": "stdout",
     "output_type": "stream",
     "text": [
      "Original string: Shahequa\n",
      "String with duplicates removed: Shaequ\n"
     ]
    }
   ],
   "source": [
    "def remove_suplicates(input_string):\n",
    "    # Create an empty string to store the result\n",
    "    result = \"\"\n",
    "    \n",
    "    # Iterate through each character in the input string\n",
    "    for char in input_string:\n",
    "        # If the character is not slresdy in the result string, add it\n",
    "        if char not in result:\n",
    "            result += char\n",
    "    return result\n",
    "\n",
    "# test the function\n",
    "input_string = \"Shahequa\"\n",
    "result_string = remove_suplicates(input_string)\n",
    "print(f\"Original string: {input_string}\")\n",
    "print(f\"String with duplicates removed: {result_string}\")"
   ]
  },
  {
   "cell_type": "markdown",
   "id": "2b562daf-9770-439d-b65b-1614d6db0405",
   "metadata": {},
   "source": [
    "Explanation:\n",
    "- The `remove_duplicates()` function takes an input string as an argument and returns a new string with all duplicates removed.\n",
    "- It initializes an empty string `result` to store the unique characters.\n",
    "- The function iterates through each character in the input string using a for loop.\n",
    "- For each character, it checks if it is not already present in the `result` string using the `not in` condition.\n",
    "- If the character is not in the `result` string, it means it is a unique character, so it is added to the `result` string.\n",
    "- The function continues this process for each character in the input string, and the final `result` string contains only the unique characters from the original string.\n",
    "- Finally, the function returns the `result` string, which is the input string with duplicates removed."
   ]
  },
  {
   "cell_type": "markdown",
   "id": "34677152-4bba-4fa3-817c-cea4190e2ca9",
   "metadata": {},
   "source": [
    "## 46. Implement a function to find the first missing positive."
   ]
  },
  {
   "cell_type": "code",
   "execution_count": 48,
   "id": "cc247f77-4b32-451b-8154-054e3408da0d",
   "metadata": {},
   "outputs": [
    {
     "name": "stdout",
     "output_type": "stream",
     "text": [
      "First missing positive integer: 2\n"
     ]
    }
   ],
   "source": [
    "def first_missing_positive(nums):\n",
    "    n = len(nums)\n",
    "    \n",
    "    # Step 1: Move each positive number to its correct position in the list\n",
    "    for i in range(n):\n",
    "        while 1 <= nums[i] <= n and nums[i] != nums[nums[i] - 1]:\n",
    "            nums[nums[i] - 1], nums[i] = nums[i], nums[nums[i] - 1]\n",
    "            \n",
    "    # Step 2: Find the first number that is out of poaition (i.e., not equal to i + 1)\n",
    "    for i in range(n):\n",
    "        if nums[i]!= i + 1:\n",
    "            return i + 1\n",
    "        \n",
    "    # If all numbers from 1 to n are in the list, return n + 1\n",
    "    return n + 1\n",
    "\n",
    "# test the function \n",
    "nums = [3,4,-1,1]\n",
    "result = first_missing_positive(nums)\n",
    "print(\"First missing positive integer:\", result)"
   ]
  },
  {
   "cell_type": "markdown",
   "id": "fd61bf8f-c3ac-44cb-a078-cda7fed24d0a",
   "metadata": {},
   "source": [
    "Explanation:\n",
    "- The `first_missing_positive()` function takes a list of integers `nums` as input and returns the first missing positive integer.\n",
    "- The function first performs a two-step approach to rearrange the elements in the list to their correct positions:\n",
    "  1. In Step 1, it moves each positive number to its correct position by swapping elements in the list.\n",
    "  2. In Step 2, it finds the first number that is out of position, which is the first missing positive integer.\n",
    "- After rearranging the list in the first step, the list would become [1, 3, 4, -1]. The first missing positive integer is 2, so the function correctly returns 2 as the result.\n",
    "\n",
    "Note: The time complexity of this solution is O(n), where n is the length of the list `nums`. The function rearranges the elements and finds the first missing positive integer in linear time."
   ]
  }
 ],
 "metadata": {
  "kernelspec": {
   "display_name": "Python 3 (ipykernel)",
   "language": "python",
   "name": "python3"
  },
  "language_info": {
   "codemirror_mode": {
    "name": "ipython",
    "version": 3
   },
   "file_extension": ".py",
   "mimetype": "text/x-python",
   "name": "python",
   "nbconvert_exporter": "python",
   "pygments_lexer": "ipython3",
   "version": "3.10.8"
  }
 },
 "nbformat": 4,
 "nbformat_minor": 5
}
